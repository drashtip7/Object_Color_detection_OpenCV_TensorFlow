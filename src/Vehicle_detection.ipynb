{
 "cells": [
  {
   "cell_type": "code",
   "execution_count": 5,
   "id": "daf31474",
   "metadata": {},
   "outputs": [],
   "source": [
    "import cv2"
   ]
  },
  {
   "cell_type": "code",
   "execution_count": 6,
   "id": "05c1b871",
   "metadata": {},
   "outputs": [],
   "source": [
    "cap = cv2.VideoCapture( 'Traffic.MOV')"
   ]
  },
  {
   "cell_type": "code",
   "execution_count": 7,
   "id": "cebf444b",
   "metadata": {},
   "outputs": [],
   "source": [
    "car_cascade = cv2.CascadeClassifier( 'cascade_car.xml')"
   ]
  },
  {
   "cell_type": "code",
   "execution_count": 8,
   "id": "0fee6871",
   "metadata": {},
   "outputs": [],
   "source": [
    "while True:\n",
    "    ret, frames = cap.read()\n",
    "    blue = cv2.cvtColor(frames, cv2.COLOR_BGR2GRAY)\n",
    "    cars = car_cascade.detectMultiScale(blue, 1.1 ,9)\n",
    "    \n",
    "    for x,y,w,h in cars:\n",
    "        plates = frames[y:y +h, x:x +w]\n",
    "        cv2.rectangle(frames, (x,y), (x+w ,y+h), (52,52,255),2)\n",
    "        \n",
    "        \n",
    "    frames =cv2.resize(frames, (600,400))\n",
    "    cv2.imshow('Car Detection System',frames)\n",
    "    k= cv2.waitKey(30)\n",
    "    if k == 27:\n",
    "        break\n",
    "cv2.destroyAllWindows()"
   ]
  },
  {
   "cell_type": "code",
   "execution_count": null,
   "id": "8d267d03",
   "metadata": {},
   "outputs": [],
   "source": []
  }
 ],
 "metadata": {
  "kernelspec": {
   "display_name": "Python 3",
   "language": "python",
   "name": "python3"
  },
  "language_info": {
   "codemirror_mode": {
    "name": "ipython",
    "version": 3
   },
   "file_extension": ".py",
   "mimetype": "text/x-python",
   "name": "python",
   "nbconvert_exporter": "python",
   "pygments_lexer": "ipython3",
   "version": "3.8.8"
  }
 },
 "nbformat": 4,
 "nbformat_minor": 5
}
