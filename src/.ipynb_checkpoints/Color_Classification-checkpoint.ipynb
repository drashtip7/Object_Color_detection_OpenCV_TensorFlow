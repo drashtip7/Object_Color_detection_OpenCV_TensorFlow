{
 "cells": [
  {
   "cell_type": "code",
   "execution_count": 1,
   "id": "a2b6ee96",
   "metadata": {},
   "outputs": [],
   "source": [
    "import cv2\n",
    "from color_recognition_api import color_histogram_feature_extraction\n",
    "from color_recognition_api import knn_classifier\n",
    "import os\n",
    "import os.path\n",
    "import numpy as np"
   ]
  },
  {
   "cell_type": "code",
   "execution_count": 8,
   "id": "1f57cc35",
   "metadata": {},
   "outputs": [],
   "source": [
    "cap = cv2.VideoCapture('input.mp4')\n",
    "(ret, frame) = cap.read()\n",
    "prediction = 'n.a.'"
   ]
  },
  {
   "cell_type": "code",
   "execution_count": 9,
   "id": "99101632",
   "metadata": {},
   "outputs": [],
   "source": [
    "PATH = './training.data'"
   ]
  },
  {
   "cell_type": "code",
   "execution_count": 10,
   "id": "59b09549",
   "metadata": {},
   "outputs": [
    {
     "name": "stdout",
     "output_type": "stream",
     "text": [
      "training data is ready, classifier is loading...\n"
     ]
    }
   ],
   "source": [
    "if os.path.isfile(PATH) and os.access(PATH, os.R_OK):\n",
    "    print ('training data is ready, classifier is loading...')\n",
    "else:\n",
    "    print ('training data is being created...')\n",
    "    open('training.data', 'w')\n",
    "    color_histogram_feature_extraction.training()\n",
    "    print ('training data is ready, classifier is loading...')    \n",
    "    "
   ]
  },
  {
   "cell_type": "code",
   "execution_count": 11,
   "id": "80082ad3",
   "metadata": {},
   "outputs": [
    {
     "ename": "error",
     "evalue": "OpenCV(4.5.5) D:\\a\\opencv-python\\opencv-python\\opencv\\modules\\imgproc\\src\\color.cpp:182: error: (-215:Assertion failed) !_src.empty() in function 'cv::cvtColor'\n",
     "output_type": "error",
     "traceback": [
      "\u001b[1;31m---------------------------------------------------------------------------\u001b[0m",
      "\u001b[1;31merror\u001b[0m                                     Traceback (most recent call last)",
      "\u001b[1;32m<ipython-input-11-793ad89cfada>\u001b[0m in \u001b[0;36m<module>\u001b[1;34m\u001b[0m\n\u001b[0;32m     14\u001b[0m \u001b[1;33m\u001b[0m\u001b[0m\n\u001b[0;32m     15\u001b[0m     \u001b[1;31m# Display the resulting frame\u001b[0m\u001b[1;33m\u001b[0m\u001b[1;33m\u001b[0m\u001b[1;33m\u001b[0m\u001b[0m\n\u001b[1;32m---> 16\u001b[1;33m     \u001b[0mcv2\u001b[0m\u001b[1;33m.\u001b[0m\u001b[0mimshow\u001b[0m\u001b[1;33m(\u001b[0m\u001b[1;34m'color classifier'\u001b[0m\u001b[1;33m,\u001b[0m \u001b[0mframe\u001b[0m\u001b[1;33m)\u001b[0m\u001b[1;33m\u001b[0m\u001b[1;33m\u001b[0m\u001b[0m\n\u001b[0m\u001b[0;32m     17\u001b[0m \u001b[1;33m\u001b[0m\u001b[0m\n\u001b[0;32m     18\u001b[0m     \u001b[0mcolor_histogram_feature_extraction\u001b[0m\u001b[1;33m.\u001b[0m\u001b[0mcolor_histogram_of_test_image\u001b[0m\u001b[1;33m(\u001b[0m\u001b[0mframe\u001b[0m\u001b[1;33m)\u001b[0m\u001b[1;33m\u001b[0m\u001b[1;33m\u001b[0m\u001b[0m\n",
      "\u001b[1;31merror\u001b[0m: OpenCV(4.5.5) D:\\a\\opencv-python\\opencv-python\\opencv\\modules\\imgproc\\src\\color.cpp:182: error: (-215:Assertion failed) !_src.empty() in function 'cv::cvtColor'\n"
     ]
    }
   ],
   "source": [
    "while True:\n",
    "\n",
    "    # Capture frame-by-frame\n",
    "    (ret, frame) = cap.read(1)\n",
    "\n",
    "    cv2.putText(\n",
    "        frame,\n",
    "        'Prediction: ' + prediction,\n",
    "        (15, 45),\n",
    "        cv2.FONT_HERSHEY_PLAIN,\n",
    "        3,\n",
    "        200,\n",
    "        )\n",
    "\n",
    "    # Display the resulting frame\n",
    "    cv2.imshow('color classifier', frame)\n",
    "\n",
    "    color_histogram_feature_extraction.color_histogram_of_test_image(frame)\n",
    "\n",
    "    prediction = knn_classifier.main('training.data', 'test.data')\n",
    "    if cv2.waitKey(1) & 0xFF == ord('q'):\n",
    "        break\n",
    "\n",
    "# When everything done, release the capture\n",
    "cap.release()\n",
    "cv2.destroyAllWindows()\t\t\n"
   ]
  },
  {
   "cell_type": "code",
   "execution_count": null,
   "id": "ac6f2c77",
   "metadata": {},
   "outputs": [],
   "source": []
  }
 ],
 "metadata": {
  "kernelspec": {
   "display_name": "Python 3",
   "language": "python",
   "name": "python3"
  },
  "language_info": {
   "codemirror_mode": {
    "name": "ipython",
    "version": 3
   },
   "file_extension": ".py",
   "mimetype": "text/x-python",
   "name": "python",
   "nbconvert_exporter": "python",
   "pygments_lexer": "ipython3",
   "version": "3.8.8"
  }
 },
 "nbformat": 4,
 "nbformat_minor": 5
}
