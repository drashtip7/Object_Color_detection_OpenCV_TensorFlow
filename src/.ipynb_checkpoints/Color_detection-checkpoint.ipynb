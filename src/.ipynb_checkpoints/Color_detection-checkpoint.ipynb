{
 "cells": [
  {
   "cell_type": "code",
   "execution_count": null,
   "id": "fb4e87f7",
   "metadata": {},
   "outputs": [],
   "source": [
    "import cv2\n",
    "from color_recognition_api import color_histogram_feature_extraction\n",
    "from color_recognition_api import knn_classifier\n",
    "import os\n",
    "import os.path\n",
    "import numpy as np"
   ]
  },
  {
   "cell_type": "code",
   "execution_count": null,
   "id": "34fac1cc",
   "metadata": {},
   "outputs": [],
   "source": [
    "cap = cv2.VideoCapture('Traffic.MOV')\n",
    "car_cascade = cv2.CascadeClassifier( 'cascade_car.xml')\n",
    "(ret, frame) = cap.read()\n",
    "prediction = 'n.a.'"
   ]
  },
  {
   "cell_type": "code",
   "execution_count": null,
   "id": "9edd8605",
   "metadata": {},
   "outputs": [],
   "source": [
    "PATH = './training.data'"
   ]
  },
  {
   "cell_type": "code",
   "execution_count": null,
   "id": "302bfb95",
   "metadata": {},
   "outputs": [],
   "source": [
    "if os.path.isfile(PATH) and os.access(PATH, os.R_OK):\n",
    "    print ('training data is ready, classifier is loading...')\n",
    "else:\n",
    "    print ('training data is being created...')\n",
    "    open('training.data', 'w')\n",
    "    color_histogram_feature_extraction.training()\n",
    "    print ('training data is ready, classifier is loading...')    "
   ]
  },
  {
   "cell_type": "code",
   "execution_count": null,
   "id": "356255ec",
   "metadata": {},
   "outputs": [],
   "source": [
    "while True:\n",
    "\n",
    "    # Capture frame-by-frame\n",
    "    (ret, frame) = cap.read()\n",
    "\n",
    "    cv2.putText(\n",
    "        frame,\n",
    "        'Prediction: ' + prediction,\n",
    "        (15, 45),\n",
    "        cv2.FONT_HERSHEY_PLAIN,\n",
    "        3,\n",
    "        200,\n",
    "        )\n",
    "\n",
    "    # Display the resulting frame\n",
    "    cv2.imshow('color classifier', frame)\n",
    "\n",
    "    color_histogram_feature_extraction.color_histogram_of_test_image(frame)\n",
    "\n",
    "    prediction = knn_classifier.main('training.data', 'test.data')\n",
    "    if cv2.waitKey(1) & 0xFF == ord('q'):\n",
    "        break\n",
    "\n",
    "# When everything done, release the capture\n",
    "cap.release()\n",
    "cv2.destroyAllWindows()"
   ]
  }
 ],
 "metadata": {
  "kernelspec": {
   "display_name": "Python 3",
   "language": "python",
   "name": "python3"
  },
  "language_info": {
   "codemirror_mode": {
    "name": "ipython",
    "version": 3
   },
   "file_extension": ".py",
   "mimetype": "text/x-python",
   "name": "python",
   "nbconvert_exporter": "python",
   "pygments_lexer": "ipython3",
   "version": "3.8.8"
  }
 },
 "nbformat": 4,
 "nbformat_minor": 5
}
